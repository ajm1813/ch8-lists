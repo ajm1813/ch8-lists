{
 "cells": [
  {
   "cell_type": "markdown",
   "metadata": {},
   "source": [
    "# Exercise 2\n",
    "Add the specified code for each code cell, running the cells _in order_."
   ]
  },
  {
   "cell_type": "markdown",
   "metadata": {},
   "source": [
    "Define a function **`count_evens()`** that takes in a _list_ of integers and returns the number that are even (divisible by two). You can use the modulo operator **`%`** to get the remainder when dividing by 2 (e.g., `5%2 == 1`).\n",
    "- This problem is adapted from [CodingBat](http://codingbat.com/prob/p189616), and you can also check your work there!"
   ]
  },
  {
   "cell_type": "code",
   "execution_count": 4,
   "metadata": {},
   "outputs": [
    {
     "data": {
      "text/plain": [
       "4"
      ]
     },
     "execution_count": 4,
     "metadata": {},
     "output_type": "execute_result"
    }
   ],
   "source": [
    "def count_evens(a_list):\n",
    "    number_even = 0\n",
    "    for numbers in a_list:\n",
    "        if numbers %2 == 0:\n",
    "            number_even = number_even + 1\n",
    "    return number_even\n",
    "\n",
    "count_evens([1,2,3,4,5,6,7,8])"
   ]
  },
  {
   "cell_type": "markdown",
   "metadata": {},
   "source": [
    "Define a function **`get_even_indices()`** that takes in a _list_ of integers and returns a _list_ containing the indices of the elements with even values."
   ]
  },
  {
   "cell_type": "code",
   "execution_count": 18,
   "metadata": {},
   "outputs": [
    {
     "name": "stdout",
     "output_type": "stream",
     "text": [
      "0\n",
      "2\n",
      "4\n"
     ]
    },
    {
     "data": {
      "text/plain": [
       "[0, 2, 4]"
      ]
     },
     "execution_count": 18,
     "metadata": {},
     "output_type": "execute_result"
    }
   ],
   "source": [
    "def get_even_indices(a_list):\n",
    "    even_list = []\n",
    "    for index in range(len(a_list)):\n",
    "        if index %2 == 0:\n",
    "            even_list.append(index)\n",
    "            print(index)\n",
    "    return even_list\n",
    "\n",
    "\n",
    "get_even_indices([1,2,3,4,5])"
   ]
  },
  {
   "cell_type": "markdown",
   "metadata": {},
   "source": [
    "Define a function **`rotate_left()`** that takes in a _list_ of elements and \"rotates\" it by moving each element in that list 1 spot to the left, with the first element becoming the last:\n",
    "```python\n",
    "my_list = [1,2,3,4]\n",
    "rotate_left(my_list)\n",
    "print(my_list)  # [2,3,4,1]\n",
    "```\n",
    "For practice, try to do this using a loop (it's more complicated, but good loop/index practice)"
   ]
  },
  {
   "cell_type": "code",
   "execution_count": 31,
   "metadata": {},
   "outputs": [
    {
     "ename": "TypeError",
     "evalue": "'list' object is not callable",
     "output_type": "error",
     "traceback": [
      "\u001b[1;31m---------------------------------------------------------------------------\u001b[0m",
      "\u001b[1;31mTypeError\u001b[0m                                 Traceback (most recent call last)",
      "\u001b[1;32m<ipython-input-31-3a42109b55bc>\u001b[0m in \u001b[0;36m<module>\u001b[1;34m\u001b[0m\n\u001b[0;32m      8\u001b[0m \u001b[1;33m\u001b[0m\u001b[0m\n\u001b[0;32m      9\u001b[0m \u001b[1;33m\u001b[0m\u001b[0m\n\u001b[1;32m---> 10\u001b[1;33m \u001b[0mprint\u001b[0m\u001b[1;33m(\u001b[0m\u001b[0mrotate_left\u001b[0m\u001b[1;33m(\u001b[0m\u001b[0mmy_list\u001b[0m\u001b[1;33m)\u001b[0m\u001b[1;33m)\u001b[0m\u001b[1;33m\u001b[0m\u001b[1;33m\u001b[0m\u001b[0m\n\u001b[0m",
      "\u001b[1;32m<ipython-input-31-3a42109b55bc>\u001b[0m in \u001b[0;36mrotate_left\u001b[1;34m(a_list)\u001b[0m\n\u001b[0;32m      2\u001b[0m     \u001b[0mleft_list\u001b[0m \u001b[1;33m=\u001b[0m \u001b[0ma_list\u001b[0m\u001b[1;33m[\u001b[0m\u001b[1;36m0\u001b[0m\u001b[1;33m]\u001b[0m\u001b[1;33m\u001b[0m\u001b[1;33m\u001b[0m\u001b[0m\n\u001b[0;32m      3\u001b[0m     \u001b[1;32mfor\u001b[0m \u001b[0mindex\u001b[0m \u001b[1;32min\u001b[0m \u001b[0mrange\u001b[0m\u001b[1;33m(\u001b[0m\u001b[1;36m1\u001b[0m\u001b[1;33m,\u001b[0m \u001b[0mlen\u001b[0m\u001b[1;33m(\u001b[0m\u001b[0ma_list\u001b[0m\u001b[1;33m)\u001b[0m\u001b[1;33m)\u001b[0m\u001b[1;33m:\u001b[0m\u001b[1;33m\u001b[0m\u001b[1;33m\u001b[0m\u001b[0m\n\u001b[1;32m----> 4\u001b[1;33m         \u001b[0mprint\u001b[0m\u001b[1;33m(\u001b[0m\u001b[0ma_list\u001b[0m\u001b[1;33m(\u001b[0m\u001b[0mindex\u001b[0m\u001b[1;33m)\u001b[0m\u001b[1;33m)\u001b[0m\u001b[1;33m\u001b[0m\u001b[1;33m\u001b[0m\u001b[0m\n\u001b[0m\u001b[0;32m      5\u001b[0m     \u001b[1;32mreturn\u001b[0m \u001b[0mleft_list\u001b[0m\u001b[1;33m\u001b[0m\u001b[1;33m\u001b[0m\u001b[0m\n\u001b[0;32m      6\u001b[0m \u001b[1;33m\u001b[0m\u001b[0m\n",
      "\u001b[1;31mTypeError\u001b[0m: 'list' object is not callable"
     ]
    }
   ],
   "source": [
    "def rotate_left(a_list):\n",
    "    left_list = a_list[0]\n",
    "    for index in range(1, len(a_list)):\n",
    "        print(a_list(index))\n",
    "    return left_list\n",
    "\n",
    "\n",
    "my_list = [1,2,3,4]\n",
    "print(rotate_left(my_list))"
   ]
  },
  {
   "cell_type": "markdown",
   "metadata": {},
   "source": [
    "_Challenge_ A [Caesarean Cipher](https://en.wikipedia.org/wiki/Caesar_cipher) is a simple and ancient encryption technique. It works by taking the a string of text and \"rotating\" each letter a fixed number of places down the alphabet. Thus if the \"rotation\" number is \"3\", then a `A` (the 1st letter) would become a `D` (the 4th), a `B` would become a `E`, and a `Z` would wrap around to become a `C`.\n",
    "\n",
    "Define a method `rotate_text()` that takes in two arguments: a string to encrypt and a number of places to shift each letter. The method should return an \"encrypted\" version of the string, with each letter shifted the appropriate amount. Note that this method can also be used to \"decrypt\" text by shifting in the opposite direction (e.g., a negative amount).\n",
    "- You can convert the argument to uppercase for ease of processing, and to a list of letters if you wish to mutate it.\n",
    "- You can create use a string of all the letters (which is itself a sequence with indices) to look up the shifted rotated letters. The [find()](https://docs.python.org/3/library/stdtypes.html#str.find) string method could help."
   ]
  },
  {
   "cell_type": "code",
   "execution_count": null,
   "metadata": {},
   "outputs": [],
   "source": []
  }
 ],
 "metadata": {
  "kernelspec": {
   "display_name": "Python 3",
   "language": "python",
   "name": "python3"
  },
  "language_info": {
   "codemirror_mode": {
    "name": "ipython",
    "version": 3
   },
   "file_extension": ".py",
   "mimetype": "text/x-python",
   "name": "python",
   "nbconvert_exporter": "python",
   "pygments_lexer": "ipython3",
   "version": "3.7.1"
  },
  "toc": {
   "colors": {
    "hover_highlight": "#DAA520",
    "running_highlight": "#FF0000",
    "selected_highlight": "#FFD700"
   },
   "moveMenuLeft": true,
   "nav_menu": {
    "height": "30px",
    "width": "252px"
   },
   "navigate_menu": true,
   "number_sections": true,
   "sideBar": true,
   "threshold": 4,
   "toc_cell": false,
   "toc_section_display": "block",
   "toc_window_display": false,
   "widenNotebook": false
  }
 },
 "nbformat": 4,
 "nbformat_minor": 2
}
